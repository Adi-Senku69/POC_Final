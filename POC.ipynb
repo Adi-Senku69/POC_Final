{
 "cells": [
  {
   "cell_type": "code",
   "id": "initial_id",
   "metadata": {
    "collapsed": true,
    "ExecuteTime": {
     "end_time": "2024-05-23T20:00:45.394712Z",
     "start_time": "2024-05-23T20:00:45.345624Z"
    }
   },
   "source": [
    "import os\n",
    "from langchain.chains import GraphCypherQAChain\n",
    "from langchain_community.chat_models import ChatOllama\n",
    "from langchain.prompts.prompt import PromptTemplate"
   ],
   "outputs": [],
   "execution_count": 97
  },
  {
   "metadata": {
    "ExecuteTime": {
     "end_time": "2024-05-23T19:37:01.526544Z",
     "start_time": "2024-05-23T19:37:01.512029Z"
    }
   },
   "cell_type": "code",
   "source": [
    "os.environ[\"NEO4J_URI\"] = \"bolt://localhost:7687\"\n",
    "os.environ[\"NEO4J_USERNAME\"] = \"neo4j\"\n",
    "os.environ[\"NEO4J_PASSWORD\"] = \"password\""
   ],
   "id": "ad8002471b635125",
   "outputs": [],
   "execution_count": 80
  },
  {
   "metadata": {
    "ExecuteTime": {
     "end_time": "2024-05-23T19:37:05.043535Z",
     "start_time": "2024-05-23T19:37:03.275442Z"
    }
   },
   "cell_type": "code",
   "source": [
    "from langchain_community.graphs import Neo4jGraph\n",
    "\n",
    "graph = Neo4jGraph()\n",
    "\n",
    "movies_query = r\"\"\"\n",
    "LOAD CSV WITH HEADERS FROM \n",
    "'https://raw.githubusercontent.com/tomasonjo/blog-datasets/main/movies/movies_small.csv'\n",
    "AS row\n",
    "MERGE (m:Movie {id:row.movieId})\n",
    "SET m.released = date(row.released),\n",
    "    m.title = row.title,\n",
    "    m.imdbRating = toFloat(row.imdbRating)\n",
    "FOREACH (director in split(row.director, '|') | \n",
    "    MERGE (p:Person {name:trim(director)})\n",
    "    MERGE (p)-[:DIRECTED]->(m))\n",
    "FOREACH (actor in split(row.actors, '|') | \n",
    "    MERGE (p:Person {name:trim(actor)})\n",
    "    MERGE (p)-[:ACTED_IN]->(m))\n",
    "FOREACH (genre in split(row.genres, '|') | \n",
    "    MERGE (g:Genre {name:trim(genre)})\n",
    "    MERGE (m)-[:IN_GENRE]->(g))\n",
    "\"\"\""
   ],
   "id": "ade83eddc42e0805",
   "outputs": [],
   "execution_count": 81
  },
  {
   "metadata": {
    "ExecuteTime": {
     "end_time": "2024-05-23T19:37:09.329795Z",
     "start_time": "2024-05-23T19:37:06.783780Z"
    }
   },
   "cell_type": "code",
   "source": "graph.query(movies_query)",
   "id": "3620f902332f7ffc",
   "outputs": [
    {
     "data": {
      "text/plain": [
       "[]"
      ]
     },
     "execution_count": 82,
     "metadata": {},
     "output_type": "execute_result"
    }
   ],
   "execution_count": 82
  },
  {
   "metadata": {
    "ExecuteTime": {
     "end_time": "2024-05-23T19:37:09.505369Z",
     "start_time": "2024-05-23T19:37:09.329795Z"
    }
   },
   "cell_type": "code",
   "source": [
    "graph.refresh_schema()\n",
    "print(graph.schema)"
   ],
   "id": "964b514735be61",
   "outputs": [
    {
     "name": "stdout",
     "output_type": "stream",
     "text": [
      "Node properties:\n",
      "Movie {imdbRating: FLOAT, id: STRING, released: DATE, title: STRING}\n",
      "Person {name: STRING}\n",
      "Genre {name: STRING}\n",
      "Relationship properties:\n",
      "\n",
      "The relationships:\n",
      "(:Movie)-[:IN_GENRE]->(:Genre)\n",
      "(:Person)-[:DIRECTED]->(:Movie)\n",
      "(:Person)-[:ACTED_IN]->(:Movie)\n"
     ]
    }
   ],
   "execution_count": 83
  },
  {
   "metadata": {
    "ExecuteTime": {
     "end_time": "2024-05-23T20:46:55.748081Z",
     "start_time": "2024-05-23T20:46:55.727351Z"
    }
   },
   "cell_type": "code",
   "source": [
    "CYPHER_GENERATION_TEMPLATE = \"\"\"\n",
    "Task: Generate cypher statement to query a graph database.\n",
    "Instructions:\n",
    "Use only the provided relationships types and properties in the schema\n",
    "Do not use any other relationship  types or properties that are not provided\n",
    "Below are some examples for cypher queries.\n",
    "Cypher examples:\n",
    "# What is the genre of toy story?\n",
    "Match (m:Movie)-[:IN_GENRE]->(g:Genre) where m.title = \"Toy Story\" return g;\n",
    "# Give me 3 animated movies\n",
    "Match (m:Movie) -[:IN_GENRE]->(g:Genre) where g.name = \"Animation\" return m limit 3;\n",
    "# What is the release date of toy story?\n",
    "Match (m:Movie) where m.title = \"Toy Story\" return m.released;\n",
    "Schema:\n",
    "{schema}\n",
    "Note: Do not include any explanations or apologies in your response\n",
    "Do not include any text except the generated Cypher statement\n",
    "Do not respond to any questions that might ask you anything else other than to construct a Cypher query\n",
    "\n",
    "The question is:\n",
    "{question}\n",
    "\"\"\"\n",
    "\n",
    "CYPHER_GENERATION_PROMPT = PromptTemplate(input_variables=[\"schema\", \"question\"], template=CYPHER_GENERATION_TEMPLATE)"
   ],
   "id": "e6b494fc8f0a7ed5",
   "outputs": [],
   "execution_count": 144
  },
  {
   "metadata": {
    "ExecuteTime": {
     "end_time": "2024-05-23T20:46:56.807745Z",
     "start_time": "2024-05-23T20:46:56.792657Z"
    }
   },
   "cell_type": "code",
   "source": [
    "model = ChatOllama(model=\"llama2\")\n",
    "chain = GraphCypherQAChain.from_llm(graph=graph, llm=model,cypher_prompt=CYPHER_GENERATION_PROMPT)"
   ],
   "id": "144c7c31ead54f87",
   "outputs": [],
   "execution_count": 145
  },
  {
   "metadata": {
    "ExecuteTime": {
     "end_time": "2024-05-23T20:51:51.439813Z",
     "start_time": "2024-05-23T20:49:47.270301Z"
    }
   },
   "cell_type": "code",
   "source": [
    "user_input = input(\"Input prompt\")\n",
    "try:\n",
    "    if user_input:\n",
    "        if (user_input.lower() in (\"where\", \"what\", \"how\", \"why\", \"when\")) and (\"?\" not in user_input.lower()):\n",
    "            user_input = user_input + \" \" + \"?\" \n",
    "    \n",
    "        # user_input = user_input.upper()\n",
    "        response = chain.invoke({\"query\": user_input})\n",
    "        \n",
    "        if \"don't know\" in response['result']: \n",
    "            print(\"The movie might not be there in the database or give a better prompt\")\n",
    "        else:\n",
    "            print(response['result'])\n",
    "    else:\n",
    "        print(\"Please provide a valid prompt\")\n",
    "except:\n",
    "    print(\"Please provide a prompt relevant to movies\")"
   ],
   "id": "4d8861cb355eb85f",
   "outputs": [
    {
     "name": "stdout",
     "output_type": "stream",
     "text": [
      "Of course! Based on the information provided, here are 5 movies in the romance genre that are owned by CTL LLC and JANE STREET GROUP LLC:\n",
      "\n",
      "1. Love Affair (released in 1994)\n",
      "2. How to Make an American Quilt (released in 1995)\n",
      "3. Frankie Starlight (released in 1995)\n",
      "4. Goofy Movie, A (released in 1995)\n",
      "5. Nina Takes a Lover (released in 1995)\n"
     ]
    }
   ],
   "execution_count": 148
  },
  {
   "metadata": {},
   "cell_type": "code",
   "outputs": [],
   "execution_count": null,
   "source": "",
   "id": "93a791a99f4e71dc"
  }
 ],
 "metadata": {
  "kernelspec": {
   "display_name": "Python 3",
   "language": "python",
   "name": "python3"
  },
  "language_info": {
   "codemirror_mode": {
    "name": "ipython",
    "version": 2
   },
   "file_extension": ".py",
   "mimetype": "text/x-python",
   "name": "python",
   "nbconvert_exporter": "python",
   "pygments_lexer": "ipython2",
   "version": "2.7.6"
  }
 },
 "nbformat": 4,
 "nbformat_minor": 5
}
